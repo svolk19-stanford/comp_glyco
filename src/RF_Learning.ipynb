{
 "cells": [
  {
   "cell_type": "code",
   "execution_count": 11,
   "metadata": {},
   "outputs": [],
   "source": [
    "import pandas as pd\n",
    "import numpy as np\n",
    "# import matplotlib.pyplot as plt\n",
    "from sklearn.preprocessing import normalize\n",
    "from deepchem.utils.vina_utils import prepare_inputs\n",
    "import deepchem as dc\n",
    "from rdkit import Chem\n",
    "import scipy\n",
    "\n",
    "from deepchem.utils.evaluate import Evaluator\n",
    "from sklearn.ensemble import RandomForestRegressor"
   ]
  },
  {
   "cell_type": "code",
   "execution_count": 3,
   "metadata": {},
   "outputs": [],
   "source": [
    "structure_df = pd.read_csv(\"../data/structures.csv\")\n",
    "structures = np.array(structure_df['smiles'])"
   ]
  },
  {
   "cell_type": "code",
   "execution_count": 4,
   "metadata": {},
   "outputs": [],
   "source": [
    "affinity_df = pd.read_csv(\"../data/test.csv\")\n",
    "affinities = np.array(affinity_df[' G'])\n",
    "affinities_normalized = affinities / np.linalg.norm(affinities)"
   ]
  },
  {
   "cell_type": "code",
   "execution_count": 5,
   "metadata": {},
   "outputs": [],
   "source": [
    "fp_featurizer = dc.feat.CircularFingerprint(size=2048)\n",
    "mols = [Chem.MolFromSmiles(l) for l in structures]\n",
    "features = fp_featurizer.featurize(mols)"
   ]
  },
  {
   "cell_type": "code",
   "execution_count": 6,
   "metadata": {},
   "outputs": [],
   "source": [
    "pdbid = '1O7S'\n",
    "dataset = dc.data.NumpyDataset(X=features, y=affinities_normalized, ids=[pdbid for i in range(len(structures))])\n",
    "train_dataset, test_dataset = dc.splits.RandomSplitter().train_test_split(dataset, seed=42)"
   ]
  },
  {
   "cell_type": "code",
   "execution_count": 7,
   "metadata": {},
   "outputs": [],
   "source": [
    "seed = 42\n",
    "sklearn_model = RandomForestRegressor(n_estimators=100, max_features='sqrt')\n",
    "sklearn_model.random_state = seed\n",
    "model = dc.models.SklearnModel(sklearn_model)\n",
    "model.fit(train_dataset)"
   ]
  },
  {
   "cell_type": "code",
   "execution_count": 8,
   "metadata": {},
   "outputs": [
    {
     "name": "stdout",
     "output_type": "stream",
     "text": [
      "RF Train set R^2 0.938019\n",
      "RF Test set R^2 0.230368\n"
     ]
    }
   ],
   "source": [
    "# use Pearson correlation so metrics are > 0\n",
    "metric = dc.metrics.Metric(dc.metrics.pearson_r2_score)\n",
    "\n",
    "evaluator = Evaluator(model, train_dataset, [])\n",
    "train_r2score = evaluator.compute_model_performance([metric])\n",
    "print(\"RF Train set R^2 %f\" % (train_r2score[\"pearson_r2_score\"]))\n",
    "\n",
    "evaluator = Evaluator(model, test_dataset, [])\n",
    "test_r2score = evaluator.compute_model_performance([metric])\n",
    "print(\"RF Test set R^2 %f\" % (test_r2score[\"pearson_r2_score\"]))"
   ]
  },
  {
   "cell_type": "code",
   "execution_count": 12,
   "metadata": {},
   "outputs": [
    {
     "name": "stdout",
     "output_type": "stream",
     "text": [
      "0.23036782003583386\n",
      "0.03755134148687876\n"
     ]
    }
   ],
   "source": [
    "x = model.predict(test_dataset)\n",
    "y = test_dataset.y\n",
    "slope, intercept, r_value, p_value, std_err = scipy.stats.linregress(x, y)\n",
    "print(r_value**2)\n",
    "print(p_value)"
   ]
  },
  {
   "cell_type": "code",
   "execution_count": 22,
   "metadata": {},
   "outputs": [
    {
     "name": "stdout",
     "output_type": "stream",
     "text": [
      "0.9380193900606827\n",
      "7.936737616213138e-46\n"
     ]
    }
   ],
   "source": [
    "x = model.predict(train_dataset)\n",
    "y = train_dataset.y\n",
    "slope, intercept, r_value, p_value, std_err = scipy.stats.linregress(x, y)\n",
    "print(r_value**2)\n",
    "print(p_value)"
   ]
  }
 ],
 "metadata": {
  "kernelspec": {
   "display_name": "Python [conda env:glyco]",
   "language": "python",
   "name": "conda-env-glyco-py"
  },
  "language_info": {
   "codemirror_mode": {
    "name": "ipython",
    "version": 3
   },
   "file_extension": ".py",
   "mimetype": "text/x-python",
   "name": "python",
   "nbconvert_exporter": "python",
   "pygments_lexer": "ipython3",
   "version": "3.9.16"
  }
 },
 "nbformat": 4,
 "nbformat_minor": 4
}
