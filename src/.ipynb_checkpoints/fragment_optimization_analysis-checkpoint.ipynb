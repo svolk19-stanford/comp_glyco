{
 "cells": [
  {
   "cell_type": "code",
   "execution_count": 2,
   "id": "7dd0eac0",
   "metadata": {},
   "outputs": [],
   "source": [
    "import matplotlib.pyplot as plt\n",
    "import scipy.stats as st\n",
    "import pandas as pd\n",
    "import numpy as np"
   ]
  },
  {
   "cell_type": "code",
   "execution_count": 3,
   "id": "8664ace1",
   "metadata": {},
   "outputs": [],
   "source": [
    "optimized = pd.read_csv('../out/pymol/output_energies_optimized.csv')['energy']\n",
    "docked_df = pd.read_csv('../out/pymol/output_energies_docked.csv')\n",
    "avg_docked_energy = docked_df.mean(axis=1)\n",
    "best_docked_energy = docked_df['0']\n",
    "y = pd.read_csv('../data/test.csv')['G']\n",
    "merge_df = pd.DataFrame({'avg':avg_docked_energy, 'best':best_docked_energy, 'optimized':optimized, 'y':y})\n",
    "\n",
    "# df = df[(np.abs(st.zscore(df)) < 3).all(axis=1)]\n",
    "# df2 = df.drop(['y'], axis=1)\n",
    "# y = list(df['y'])"
   ]
  },
  {
   "cell_type": "code",
   "execution_count": 4,
   "id": "2908d9f0",
   "metadata": {
    "scrolled": true
   },
   "outputs": [
    {
     "data": {
      "text/html": [
       "<div>\n",
       "<style scoped>\n",
       "    .dataframe tbody tr th:only-of-type {\n",
       "        vertical-align: middle;\n",
       "    }\n",
       "\n",
       "    .dataframe tbody tr th {\n",
       "        vertical-align: top;\n",
       "    }\n",
       "\n",
       "    .dataframe thead th {\n",
       "        text-align: right;\n",
       "    }\n",
       "</style>\n",
       "<table border=\"1\" class=\"dataframe\">\n",
       "  <thead>\n",
       "    <tr style=\"text-align: right;\">\n",
       "      <th></th>\n",
       "      <th>avg</th>\n",
       "      <th>best</th>\n",
       "      <th>optimized</th>\n",
       "      <th>y</th>\n",
       "    </tr>\n",
       "  </thead>\n",
       "  <tbody>\n",
       "    <tr>\n",
       "      <th>0</th>\n",
       "      <td>-6.929810</td>\n",
       "      <td>-8.009</td>\n",
       "      <td>-1.891</td>\n",
       "      <td>165</td>\n",
       "    </tr>\n",
       "    <tr>\n",
       "      <th>1</th>\n",
       "      <td>-5.251524</td>\n",
       "      <td>-6.211</td>\n",
       "      <td>-0.971</td>\n",
       "      <td>16</td>\n",
       "    </tr>\n",
       "    <tr>\n",
       "      <th>2</th>\n",
       "      <td>-6.453048</td>\n",
       "      <td>-7.435</td>\n",
       "      <td>-1.645</td>\n",
       "      <td>1330</td>\n",
       "    </tr>\n",
       "    <tr>\n",
       "      <th>3</th>\n",
       "      <td>-6.433476</td>\n",
       "      <td>-7.883</td>\n",
       "      <td>-2.213</td>\n",
       "      <td>1301</td>\n",
       "    </tr>\n",
       "    <tr>\n",
       "      <th>4</th>\n",
       "      <td>-6.234333</td>\n",
       "      <td>-7.349</td>\n",
       "      <td>-1.079</td>\n",
       "      <td>17</td>\n",
       "    </tr>\n",
       "  </tbody>\n",
       "</table>\n",
       "</div>"
      ],
      "text/plain": [
       "        avg   best  optimized     y\n",
       "0 -6.929810 -8.009     -1.891   165\n",
       "1 -5.251524 -6.211     -0.971    16\n",
       "2 -6.453048 -7.435     -1.645  1330\n",
       "3 -6.433476 -7.883     -2.213  1301\n",
       "4 -6.234333 -7.349     -1.079    17"
      ]
     },
     "execution_count": 4,
     "metadata": {},
     "output_type": "execute_result"
    }
   ],
   "source": [
    "merge_df.head()"
   ]
  },
  {
   "cell_type": "code",
   "execution_count": 5,
   "id": "ae506b4f",
   "metadata": {},
   "outputs": [
    {
     "ename": "IndexError",
     "evalue": "too many indices for array: array is 1-dimensional, but 2 were indexed",
     "output_type": "error",
     "traceback": [
      "\u001b[0;31m---------------------------------------------------------------------------\u001b[0m",
      "\u001b[0;31mIndexError\u001b[0m                                Traceback (most recent call last)",
      "Cell \u001b[0;32mIn[5], line 4\u001b[0m\n\u001b[1;32m      2\u001b[0m fig\u001b[38;5;241m.\u001b[39msuptitle(\u001b[38;5;124m'\u001b[39m\u001b[38;5;124mOptimized docking of fragments assembled on crystal scaffold, 2HRL\u001b[39m\u001b[38;5;124m'\u001b[39m)\n\u001b[1;32m      3\u001b[0m axs[\u001b[38;5;241m0\u001b[39m]\u001b[38;5;241m.\u001b[39mscatter(merge_df[\u001b[38;5;124m'\u001b[39m\u001b[38;5;124mavg\u001b[39m\u001b[38;5;124m'\u001b[39m], merge_df[\u001b[38;5;124m'\u001b[39m\u001b[38;5;124my\u001b[39m\u001b[38;5;124m'\u001b[39m])\n\u001b[0;32m----> 4\u001b[0m axs[\u001b[38;5;241m0\u001b[39m, \u001b[38;5;241m0\u001b[39m]\u001b[38;5;241m.\u001b[39mset_title(\u001b[38;5;124m\"\u001b[39m\u001b[38;5;124mAverage pose energy (n=20) after optimization and docking\u001b[39m\u001b[38;5;124m\"\u001b[39m)\n\u001b[1;32m      5\u001b[0m axs[\u001b[38;5;241m1\u001b[39m]\u001b[38;5;241m.\u001b[39mscatter(merge_df[\u001b[38;5;124m'\u001b[39m\u001b[38;5;124mbest\u001b[39m\u001b[38;5;124m'\u001b[39m], merge_df[\u001b[38;5;124m'\u001b[39m\u001b[38;5;124my\u001b[39m\u001b[38;5;124m'\u001b[39m])\n\u001b[1;32m      6\u001b[0m axs[\u001b[38;5;241m0\u001b[39m, \u001b[38;5;241m0\u001b[39m]\u001b[38;5;241m.\u001b[39mset_title(\u001b[38;5;124m\"\u001b[39m\u001b[38;5;124mBest pose energy after optimization and docking\u001b[39m\u001b[38;5;124m\"\u001b[39m)\n",
      "\u001b[0;31mIndexError\u001b[0m: too many indices for array: array is 1-dimensional, but 2 were indexed"
     ]
    },
    {
     "data": {
      "image/png": "[encoded data removed]",
      "text/plain": [
       "<Figure size 640x480 with 3 Axes>"
      ]
     },
     "metadata": {},
     "output_type": "display_data"
    }
   ],
   "source": [
    "fig, axs = plt.subplots(3)\n",
    "fig.suptitle('Optimized docking of fragments assembled on crystal scaffold, 2HRL')\n",
    "axs[0].scatter(merge_df['avg'], merge_df['y'])\n",
    "axs[0].set_title(\"Average pose energy (n=20) after optimization and docking\")\n",
    "axs[1].scatter(merge_df['best'], merge_df['y'])\n",
    "axs[1].set_title(\"Best pose energy after optimization and docking\")\n",
    "axs[2].scatter(merge_df['optimized'], merge_df['y'])\n",
    "axs[2].set_title(\"Optimized energy prior to docking\")\n"
   ]
  },
  {
   "cell_type": "code",
   "execution_count": null,
   "id": "643f80b9",
   "metadata": {},
   "outputs": [],
   "source": [
    "r, p = st.pearsonr(merge_df['avg'], merge_df['y'])\n",
    "print(f\"Average docking energy vs. experimental affinity, correlation: {r}\\nP-value:        {p}\\nR squared:    {r**2}\")\n",
    "\n",
    "r, p = st.pearsonr(merge_df['best'], merge_df['y'])\n",
    "print(f\"Best docking energy vs. experimental affinity, correlation: {r}\\nP-value:        {p}\\nR squared:    {r**2}\")\n",
    "\n",
    "r, p = st.pearsonr(merge_df['optimized'], merge_df['y'])\n",
    "print(f\"Optimized energy vs. experimental affinity, correlation: {r}\\nP-value:        {p}\\nR squared:    {r**2}\")\n"
   ]
  }
 ],
 "metadata": {
  "kernelspec": {
   "display_name": "Python 3 (ipykernel)",
   "language": "python",
   "name": "python3"
  },
  "language_info": {
   "codemirror_mode": {
    "name": "ipython",
    "version": 3
   },
   "file_extension": ".py",
   "mimetype": "text/x-python",
   "name": "python",
   "nbconvert_exporter": "python",
   "pygments_lexer": "ipython3",
   "version": "3.11.3"
  }
 },
 "nbformat": 4,
 "nbformat_minor": 5
}
