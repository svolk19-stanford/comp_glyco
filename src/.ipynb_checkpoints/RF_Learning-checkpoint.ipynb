{
 "cells": [
  {
   "cell_type": "code",
   "execution_count": 28,
   "metadata": {},
   "outputs": [],
   "source": [
    "import pandas as pd\n",
    "import numpy as np\n",
    "import matplotlib.pyplot as plt\n",
    "from sklearn.preprocessing import normalize\n",
    "from deepchem.utils.vina_utils import prepare_inputs\n",
    "import deepchem as dc\n",
    "from rdkit import Chem\n",
    "\n",
    "from deepchem.utils.evaluate import Evaluator\n",
    "from sklearn.ensemble import RandomForestRegressor"
   ]
  },
  {
   "cell_type": "code",
   "execution_count": 19,
   "metadata": {},
   "outputs": [],
   "source": [
    "structure_df = pd.read_csv(\"../data/structures.csv\")\n",
    "structures = np.array(structure_df['smiles'])"
   ]
  },
  {
   "cell_type": "code",
   "execution_count": 3,
   "metadata": {},
   "outputs": [],
   "source": [
    "affinity_df = pd.read_csv(\"../data/test.csv\")\n",
    "affinities = np.array(affinity_df[' G'])\n",
    "affinities_normalized = affinities / np.linalg.norm(affinities)"
   ]
  },
  {
   "cell_type": "code",
   "execution_count": 22,
   "metadata": {},
   "outputs": [],
   "source": [
    "fp_featurizer = dc.feat.CircularFingerprint(size=2048)\n",
    "mols = [Chem.MolFromSmiles(l) for l in structures]\n",
    "features = fp_featurizer.featurize(mols)"
   ]
  },
  {
   "cell_type": "code",
   "execution_count": 27,
   "metadata": {},
   "outputs": [],
   "source": [
    "pdbid = '1O7S'\n",
    "dataset = dc.data.NumpyDataset(X=features, y=affinities_normalized, ids=[pdbid for i in range(len(structures))])\n",
    "train_dataset, test_dataset = dc.splits.RandomSplitter().train_test_split(dataset, seed=42)"
   ]
  },
  {
   "cell_type": "code",
   "execution_count": 29,
   "metadata": {},
   "outputs": [],
   "source": [
    "seed = 42\n",
    "sklearn_model = RandomForestRegressor(n_estimators=100, max_features='sqrt')\n",
    "sklearn_model.random_state = seed\n",
    "model = dc.models.SklearnModel(sklearn_model)\n",
    "model.fit(train_dataset)"
   ]
  },
  {
   "cell_type": "code",
   "execution_count": 30,
   "metadata": {},
   "outputs": [
    {
     "name": "stdout",
     "output_type": "stream",
     "text": [
      "RF Train set R^2 0.938019\n",
      "RF Test set R^2 0.230368\n"
     ]
    }
   ],
   "source": [
    "# use Pearson correlation so metrics are > 0\n",
    "metric = dc.metrics.Metric(dc.metrics.pearson_r2_score)\n",
    "\n",
    "evaluator = Evaluator(model, train_dataset, [])\n",
    "train_r2score = evaluator.compute_model_performance([metric])\n",
    "print(\"RF Train set R^2 %f\" % (train_r2score[\"pearson_r2_score\"]))\n",
    "\n",
    "evaluator = Evaluator(model, test_dataset, [])\n",
    "test_r2score = evaluator.compute_model_performance([metric])\n",
    "print(\"RF Test set R^2 %f\" % (test_r2score[\"pearson_r2_score\"]))"
   ]
  },
  {
   "cell_type": "code",
   "execution_count": 33,
   "metadata": {},
   "outputs": [
    {
     "data": {
      "text/plain": [
       "[(0.019739692715119404, 0.0),\n",
       " (0.03852270427029297, 0.0030860682578898635),\n",
       " (0.06496516579331262, 0.06506460577051129),\n",
       " (0.04640332246328785, 0.0),\n",
       " (0.011773350403849825, 0.0013715858923954948),\n",
       " (0.05062266356476944, 0.005572067687856698),\n",
       " (0.060593235761302, 0.006086412397505008),\n",
       " (0.0650551761175011, 0.11401307730537551),\n",
       " (0.05949853877093383, 0.10938397491854071),\n",
       " (0.043432124523886104, 0.0),\n",
       " (0.07139147431977694, 0.0),\n",
       " (0.0054203359985104446, 0.0),\n",
       " (0.025645227223064768, 0.0),\n",
       " (0.02984056557142948, 0.0586352968999074),\n",
       " (0.04781862765600343, 0.11649907673534234),\n",
       " (0.05508460392096857, 0.08983887595190491),\n",
       " (0.01647874725594912, 0.0014573100106702133),\n",
       " (0.0457141005523591, 0.10929825080026599),\n",
       " (0.013923311290179763, 0.004714826505109513)]"
      ]
     },
     "execution_count": 33,
     "metadata": {},
     "output_type": "execute_result"
    }
   ],
   "source": [
    "list(zip(model.predict(test_dataset), test_dataset.y))\n"
   ]
  },
  {
   "cell_type": "code",
   "execution_count": 35,
   "metadata": {},
   "outputs": [
    {
     "data": {
      "text/plain": [
       "{'pearson_r2_score': 0.23036782003583386}"
      ]
     },
     "execution_count": 35,
     "metadata": {},
     "output_type": "execute_result"
    }
   ],
   "source": [
    "test_r2score"
   ]
  }
 ],
 "metadata": {
  "kernelspec": {
   "display_name": "Python [conda env:glyco]",
   "language": "python",
   "name": "conda-env-glyco-py"
  },
  "language_info": {
   "codemirror_mode": {
    "name": "ipython",
    "version": 3
   },
   "file_extension": ".py",
   "mimetype": "text/x-python",
   "name": "python",
   "nbconvert_exporter": "python",
   "pygments_lexer": "ipython3",
   "version": "3.9.16"
  }
 },
 "nbformat": 4,
 "nbformat_minor": 4
}
